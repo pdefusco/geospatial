{
 "cells": [
  {
   "cell_type": "markdown",
   "metadata": {},
   "source": [
    "Redo this in Spark"
   ]
  },
  {
   "cell_type": "code",
   "execution_count": 2,
   "metadata": {},
   "outputs": [],
   "source": [
    "import pandas as pd\n",
    "import os"
   ]
  },
  {
   "cell_type": "code",
   "execution_count": 3,
   "metadata": {},
   "outputs": [],
   "source": [
    "listingsPD = pd.read_csv(\"airbnb_data/listings.csv.gz\")"
   ]
  },
  {
   "cell_type": "code",
   "execution_count": 5,
   "metadata": {},
   "outputs": [
    {
     "data": {
      "text/html": [
       "<div>\n",
       "<style scoped>\n",
       "    .dataframe tbody tr th:only-of-type {\n",
       "        vertical-align: middle;\n",
       "    }\n",
       "\n",
       "    .dataframe tbody tr th {\n",
       "        vertical-align: top;\n",
       "    }\n",
       "\n",
       "    .dataframe thead th {\n",
       "        text-align: right;\n",
       "    }\n",
       "</style>\n",
       "<table border=\"1\" class=\"dataframe\">\n",
       "  <thead>\n",
       "    <tr style=\"text-align: right;\">\n",
       "      <th></th>\n",
       "      <th>id</th>\n",
       "      <th>listing_url</th>\n",
       "      <th>scrape_id</th>\n",
       "      <th>last_scraped</th>\n",
       "      <th>name</th>\n",
       "      <th>description</th>\n",
       "      <th>neighborhood_overview</th>\n",
       "      <th>picture_url</th>\n",
       "      <th>host_id</th>\n",
       "      <th>host_url</th>\n",
       "      <th>...</th>\n",
       "      <th>review_scores_communication</th>\n",
       "      <th>review_scores_location</th>\n",
       "      <th>review_scores_value</th>\n",
       "      <th>license</th>\n",
       "      <th>instant_bookable</th>\n",
       "      <th>calculated_host_listings_count</th>\n",
       "      <th>calculated_host_listings_count_entire_homes</th>\n",
       "      <th>calculated_host_listings_count_private_rooms</th>\n",
       "      <th>calculated_host_listings_count_shared_rooms</th>\n",
       "      <th>reviews_per_month</th>\n",
       "    </tr>\n",
       "  </thead>\n",
       "  <tbody>\n",
       "    <tr>\n",
       "      <td>0</td>\n",
       "      <td>21974</td>\n",
       "      <td>https://www.airbnb.com/rooms/21974</td>\n",
       "      <td>20200824050501</td>\n",
       "      <td>2020-08-24</td>\n",
       "      <td>Comf. double room/private bathroom</td>\n",
       "      <td>It is private double room with private bathroo...</td>\n",
       "      <td>NaN</td>\n",
       "      <td>https://a0.muscache.com/pictures/8e7c8694-f5ea...</td>\n",
       "      <td>73163</td>\n",
       "      <td>https://www.airbnb.com/users/show/73163</td>\n",
       "      <td>...</td>\n",
       "      <td>10.0</td>\n",
       "      <td>10.0</td>\n",
       "      <td>10.0</td>\n",
       "      <td>HUTB-120440</td>\n",
       "      <td>f</td>\n",
       "      <td>3</td>\n",
       "      <td>1</td>\n",
       "      <td>2</td>\n",
       "      <td>0</td>\n",
       "      <td>0.05</td>\n",
       "    </tr>\n",
       "    <tr>\n",
       "      <td>1</td>\n",
       "      <td>23197</td>\n",
       "      <td>https://www.airbnb.com/rooms/23197</td>\n",
       "      <td>20200824050501</td>\n",
       "      <td>2020-08-26</td>\n",
       "      <td>Forum DeLuxe 5 mins Walk  To CCIB Center &amp; Sea★</td>\n",
       "      <td>Beautiful apartment, large terrace, 5 minutes ...</td>\n",
       "      <td>Strategically located in the Parc del Fòrum ar...</td>\n",
       "      <td>https://a0.muscache.com/pictures/738532/806da1...</td>\n",
       "      <td>90417</td>\n",
       "      <td>https://www.airbnb.com/users/show/90417</td>\n",
       "      <td>...</td>\n",
       "      <td>10.0</td>\n",
       "      <td>9.0</td>\n",
       "      <td>9.0</td>\n",
       "      <td>HUTB-005057</td>\n",
       "      <td>t</td>\n",
       "      <td>2</td>\n",
       "      <td>2</td>\n",
       "      <td>0</td>\n",
       "      <td>0</td>\n",
       "      <td>0.45</td>\n",
       "    </tr>\n",
       "    <tr>\n",
       "      <td>2</td>\n",
       "      <td>25786</td>\n",
       "      <td>https://www.airbnb.com/rooms/25786</td>\n",
       "      <td>20200824050501</td>\n",
       "      <td>2020-08-24</td>\n",
       "      <td>NICE ROOM AVAILABLE IN THE HEART OF GRACIA</td>\n",
       "      <td>JUST GO THROUGH THE MANY REVIEWS I GOT THROUGH...</td>\n",
       "      <td>Solo decir que a menudo ni salgo del barrio. M...</td>\n",
       "      <td>https://a0.muscache.com/pictures/6619f0c7-844e...</td>\n",
       "      <td>108310</td>\n",
       "      <td>https://www.airbnb.com/users/show/108310</td>\n",
       "      <td>...</td>\n",
       "      <td>10.0</td>\n",
       "      <td>10.0</td>\n",
       "      <td>10.0</td>\n",
       "      <td>NaN</td>\n",
       "      <td>t</td>\n",
       "      <td>1</td>\n",
       "      <td>0</td>\n",
       "      <td>1</td>\n",
       "      <td>0</td>\n",
       "      <td>2.20</td>\n",
       "    </tr>\n",
       "    <tr>\n",
       "      <td>3</td>\n",
       "      <td>32711</td>\n",
       "      <td>https://www.airbnb.com/rooms/32711</td>\n",
       "      <td>20200824050501</td>\n",
       "      <td>2020-08-25</td>\n",
       "      <td>Sagrada Familia area - Còrsega 1</td>\n",
       "      <td>A lovely two bedroom apartment only 250 m from...</td>\n",
       "      <td>What's nearby  &lt;br /&gt;This apartment is located...</td>\n",
       "      <td>https://a0.muscache.com/pictures/357b25e4-f414...</td>\n",
       "      <td>135703</td>\n",
       "      <td>https://www.airbnb.com/users/show/135703</td>\n",
       "      <td>...</td>\n",
       "      <td>10.0</td>\n",
       "      <td>10.0</td>\n",
       "      <td>9.0</td>\n",
       "      <td>HUTB-001722</td>\n",
       "      <td>t</td>\n",
       "      <td>5</td>\n",
       "      <td>5</td>\n",
       "      <td>0</td>\n",
       "      <td>0</td>\n",
       "      <td>0.57</td>\n",
       "    </tr>\n",
       "    <tr>\n",
       "      <td>4</td>\n",
       "      <td>34241</td>\n",
       "      <td>https://www.airbnb.com/rooms/34241</td>\n",
       "      <td>20200824050501</td>\n",
       "      <td>2020-08-24</td>\n",
       "      <td>Private Double room - Plaza Real</td>\n",
       "      <td>&lt;b&gt;The space&lt;/b&gt;&lt;br /&gt;It is a Private double r...</td>\n",
       "      <td>NaN</td>\n",
       "      <td>https://a0.muscache.com/pictures/2437facc-2fe7...</td>\n",
       "      <td>73163</td>\n",
       "      <td>https://www.airbnb.com/users/show/73163</td>\n",
       "      <td>...</td>\n",
       "      <td>9.0</td>\n",
       "      <td>8.0</td>\n",
       "      <td>7.0</td>\n",
       "      <td>Exempt</td>\n",
       "      <td>f</td>\n",
       "      <td>3</td>\n",
       "      <td>1</td>\n",
       "      <td>2</td>\n",
       "      <td>0</td>\n",
       "      <td>0.06</td>\n",
       "    </tr>\n",
       "  </tbody>\n",
       "</table>\n",
       "<p>5 rows × 74 columns</p>\n",
       "</div>"
      ],
      "text/plain": [
       "      id                         listing_url       scrape_id last_scraped  \\\n",
       "0  21974  https://www.airbnb.com/rooms/21974  20200824050501   2020-08-24   \n",
       "1  23197  https://www.airbnb.com/rooms/23197  20200824050501   2020-08-26   \n",
       "2  25786  https://www.airbnb.com/rooms/25786  20200824050501   2020-08-24   \n",
       "3  32711  https://www.airbnb.com/rooms/32711  20200824050501   2020-08-25   \n",
       "4  34241  https://www.airbnb.com/rooms/34241  20200824050501   2020-08-24   \n",
       "\n",
       "                                              name  \\\n",
       "0               Comf. double room/private bathroom   \n",
       "1  Forum DeLuxe 5 mins Walk  To CCIB Center & Sea★   \n",
       "2       NICE ROOM AVAILABLE IN THE HEART OF GRACIA   \n",
       "3                 Sagrada Familia area - Còrsega 1   \n",
       "4                 Private Double room - Plaza Real   \n",
       "\n",
       "                                         description  \\\n",
       "0  It is private double room with private bathroo...   \n",
       "1  Beautiful apartment, large terrace, 5 minutes ...   \n",
       "2  JUST GO THROUGH THE MANY REVIEWS I GOT THROUGH...   \n",
       "3  A lovely two bedroom apartment only 250 m from...   \n",
       "4  <b>The space</b><br />It is a Private double r...   \n",
       "\n",
       "                               neighborhood_overview  \\\n",
       "0                                                NaN   \n",
       "1  Strategically located in the Parc del Fòrum ar...   \n",
       "2  Solo decir que a menudo ni salgo del barrio. M...   \n",
       "3  What's nearby  <br />This apartment is located...   \n",
       "4                                                NaN   \n",
       "\n",
       "                                         picture_url  host_id  \\\n",
       "0  https://a0.muscache.com/pictures/8e7c8694-f5ea...    73163   \n",
       "1  https://a0.muscache.com/pictures/738532/806da1...    90417   \n",
       "2  https://a0.muscache.com/pictures/6619f0c7-844e...   108310   \n",
       "3  https://a0.muscache.com/pictures/357b25e4-f414...   135703   \n",
       "4  https://a0.muscache.com/pictures/2437facc-2fe7...    73163   \n",
       "\n",
       "                                   host_url  ... review_scores_communication  \\\n",
       "0   https://www.airbnb.com/users/show/73163  ...                        10.0   \n",
       "1   https://www.airbnb.com/users/show/90417  ...                        10.0   \n",
       "2  https://www.airbnb.com/users/show/108310  ...                        10.0   \n",
       "3  https://www.airbnb.com/users/show/135703  ...                        10.0   \n",
       "4   https://www.airbnb.com/users/show/73163  ...                         9.0   \n",
       "\n",
       "  review_scores_location review_scores_value      license instant_bookable  \\\n",
       "0                   10.0                10.0  HUTB-120440                f   \n",
       "1                    9.0                 9.0  HUTB-005057                t   \n",
       "2                   10.0                10.0          NaN                t   \n",
       "3                   10.0                 9.0  HUTB-001722                t   \n",
       "4                    8.0                 7.0       Exempt                f   \n",
       "\n",
       "  calculated_host_listings_count calculated_host_listings_count_entire_homes  \\\n",
       "0                              3                                           1   \n",
       "1                              2                                           2   \n",
       "2                              1                                           0   \n",
       "3                              5                                           5   \n",
       "4                              3                                           1   \n",
       "\n",
       "  calculated_host_listings_count_private_rooms  \\\n",
       "0                                            2   \n",
       "1                                            0   \n",
       "2                                            1   \n",
       "3                                            0   \n",
       "4                                            2   \n",
       "\n",
       "  calculated_host_listings_count_shared_rooms reviews_per_month  \n",
       "0                                           0              0.05  \n",
       "1                                           0              0.45  \n",
       "2                                           0              2.20  \n",
       "3                                           0              0.57  \n",
       "4                                           0              0.06  \n",
       "\n",
       "[5 rows x 74 columns]"
      ]
     },
     "execution_count": 5,
     "metadata": {},
     "output_type": "execute_result"
    }
   ],
   "source": [
    "listingsPD.head()"
   ]
  },
  {
   "cell_type": "code",
   "execution_count": 6,
   "metadata": {},
   "outputs": [
    {
     "data": {
      "text/plain": [
       "Index(['id', 'listing_url', 'scrape_id', 'last_scraped', 'name', 'description',\n",
       "       'neighborhood_overview', 'picture_url', 'host_id', 'host_url',\n",
       "       'host_name', 'host_since', 'host_location', 'host_about',\n",
       "       'host_response_time', 'host_response_rate', 'host_acceptance_rate',\n",
       "       'host_is_superhost', 'host_thumbnail_url', 'host_picture_url',\n",
       "       'host_neighbourhood', 'host_listings_count',\n",
       "       'host_total_listings_count', 'host_verifications',\n",
       "       'host_has_profile_pic', 'host_identity_verified', 'neighbourhood',\n",
       "       'neighbourhood_cleansed', 'neighbourhood_group_cleansed', 'latitude',\n",
       "       'longitude', 'property_type', 'room_type', 'accommodates', 'bathrooms',\n",
       "       'bathrooms_text', 'bedrooms', 'beds', 'amenities', 'price',\n",
       "       'minimum_nights', 'maximum_nights', 'minimum_minimum_nights',\n",
       "       'maximum_minimum_nights', 'minimum_maximum_nights',\n",
       "       'maximum_maximum_nights', 'minimum_nights_avg_ntm',\n",
       "       'maximum_nights_avg_ntm', 'calendar_updated', 'has_availability',\n",
       "       'availability_30', 'availability_60', 'availability_90',\n",
       "       'availability_365', 'calendar_last_scraped', 'number_of_reviews',\n",
       "       'number_of_reviews_ltm', 'number_of_reviews_l30d', 'first_review',\n",
       "       'last_review', 'review_scores_rating', 'review_scores_accuracy',\n",
       "       'review_scores_cleanliness', 'review_scores_checkin',\n",
       "       'review_scores_communication', 'review_scores_location',\n",
       "       'review_scores_value', 'license', 'instant_bookable',\n",
       "       'calculated_host_listings_count',\n",
       "       'calculated_host_listings_count_entire_homes',\n",
       "       'calculated_host_listings_count_private_rooms',\n",
       "       'calculated_host_listings_count_shared_rooms', 'reviews_per_month'],\n",
       "      dtype='object')"
      ]
     },
     "execution_count": 6,
     "metadata": {},
     "output_type": "execute_result"
    }
   ],
   "source": [
    "listingsPD.columns"
   ]
  },
  {
   "cell_type": "code",
   "execution_count": 7,
   "metadata": {},
   "outputs": [
    {
     "data": {
      "text/plain": [
       "(20703, 74)"
      ]
     },
     "execution_count": 7,
     "metadata": {},
     "output_type": "execute_result"
    }
   ],
   "source": [
    "listingsPD.shape"
   ]
  },
  {
   "cell_type": "code",
   "execution_count": 11,
   "metadata": {},
   "outputs": [
    {
     "data": {
      "text/plain": [
       "0        2.17551\n",
       "1        2.22063\n",
       "2        2.15645\n",
       "3        2.17015\n",
       "4        2.17535\n",
       "          ...   \n",
       "20698    2.16741\n",
       "20699    2.16553\n",
       "20700    2.18104\n",
       "20701    2.15400\n",
       "20702    2.18537\n",
       "Name: longitude, Length: 20703, dtype: float64"
      ]
     },
     "execution_count": 11,
     "metadata": {},
     "output_type": "execute_result"
    }
   ],
   "source": [
    "listingsPD.longitude"
   ]
  },
  {
   "cell_type": "code",
   "execution_count": null,
   "metadata": {},
   "outputs": [],
   "source": []
  },
  {
   "cell_type": "code",
   "execution_count": 9,
   "metadata": {},
   "outputs": [
    {
     "data": {
      "text/plain": [
       "0        41.38077\n",
       "1        41.41291\n",
       "2        41.40145\n",
       "3        41.40566\n",
       "4        41.37916\n",
       "           ...   \n",
       "20698    41.37740\n",
       "20699    41.40197\n",
       "20700    41.38686\n",
       "20701    41.40137\n",
       "20702    41.38564\n",
       "Name: latitude, Length: 20703, dtype: float64"
      ]
     },
     "execution_count": 9,
     "metadata": {},
     "output_type": "execute_result"
    }
   ],
   "source": [
    "listingsPD.latitude[listingsPD.latitude.apply(lambda x: isinstance(x,float))]"
   ]
  },
  {
   "cell_type": "code",
   "execution_count": 14,
   "metadata": {},
   "outputs": [],
   "source": [
    "listingsPD.to_csv(\"airbnb_data/parsed_listings.csv\", index=False, sep=\",\")"
   ]
  },
  {
   "cell_type": "code",
   "execution_count": null,
   "metadata": {},
   "outputs": [],
   "source": []
  },
  {
   "cell_type": "code",
   "execution_count": null,
   "metadata": {},
   "outputs": [],
   "source": []
  },
  {
   "cell_type": "code",
   "execution_count": null,
   "metadata": {},
   "outputs": [],
   "source": []
  }
 ],
 "metadata": {
  "kernelspec": {
   "display_name": "Python 3",
   "language": "python",
   "name": "python3"
  },
  "language_info": {
   "codemirror_mode": {
    "name": "ipython",
    "version": 3
   },
   "file_extension": ".py",
   "mimetype": "text/x-python",
   "name": "python",
   "nbconvert_exporter": "python",
   "pygments_lexer": "ipython3",
   "version": "3.6.10"
  }
 },
 "nbformat": 4,
 "nbformat_minor": 4
}
